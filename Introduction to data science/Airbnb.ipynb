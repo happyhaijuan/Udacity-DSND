{
 "cells": [
  {
   "cell_type": "markdown",
   "metadata": {},
   "source": [
    "# Analysis of AirBnb Rental Price in Boston and Seattle\n",
    "1. What are the most important feature for predicting the price of AirBnb?\n",
    "2. Which city has the higher price?\n",
    "3. Can you find negative and positive reviews based on text? \n",
    "4. which listing has the highest mean price for the two cities? "
   ]
  },
  {
   "cell_type": "code",
   "execution_count": null,
   "metadata": {},
   "outputs": [],
   "source": [
    "!pip3 install statsmodels"
   ]
  },
  {
   "cell_type": "code",
   "execution_count": 143,
   "metadata": {},
   "outputs": [],
   "source": [
    "\n",
    "import numpy as np\n",
    "import pandas as pd\n",
    "import matplotlib.pyplot as plt\n",
    "from sklearn.linear_model import LinearRegression\n",
    "from sklearn.model_selection import train_test_split\n",
    "from sklearn.metrics import r2_score,mean_squared_error\n",
    "from textblob import TextBlob\n",
    "from sklearn.linear_model import Ridge\n",
    "import seaborn as sns\n",
    "from sklearn.linear_model import Lasso\n",
    "from statsmodels.graphics.gofplots import ProbPlot\n",
    "from sklearn.tree import DecisionTreeRegressor\n",
    "from sklearn.ensemble import BaggingRegressor\n",
    "from sklearn.ensemble import RandomForestRegressor, AdaBoostRegressor, GradientBoostingRegressor\n",
    "from sklearn.model_selection import RandomizedSearchCV, GridSearchCV\n",
    "%matplotlib inline\n",
    "Boston_listing = pd.read_csv('Boston-listings.csv')\n",
    "Seattle_listing = pd.read_csv('Seattle-listings.csv')    \n",
    "Boston_review = pd.read_csv('Boston-reviews.csv')\n",
    "Seattle_review = pd.read_csv('Seattle-reviews.csv')\n",
    "Boston_calender = pd.read_csv('Boston-calendar.csv')\n",
    "Seattle_calender = pd.read_csv('Seattle-calendar.csv')                               "
   ]
  },
  {
   "cell_type": "markdown",
   "metadata": {},
   "source": [
    "## Question 1: which listing has the highest price at Boston? "
   ]
  },
  {
   "cell_type": "code",
   "execution_count": 2,
   "metadata": {},
   "outputs": [],
   "source": [
    "def highest_listing (df):\n",
    "    '''\n",
    "    input: listing dataframe of the target city\n",
    "    output: The description of the listing with the higest price \n",
    "    \n",
    "    '''\n",
    "    #drop the row with price missing and then grab the array of price(string)\n",
    "    df_listing_dropna = df.dropna(subset=['price'],axis = 0)\n",
    "    price = df_listing_dropna['price']\n",
    "    #change price in dorllar formate to float \n",
    "    price = price.str.replace(\"$\",'')\n",
    "    price = price.str.replace(\",\",\"\")\n",
    "    price = price.astype(float)\n",
    "    #assign the array of price in float formate to the calender dataframe\n",
    "    df_listing_dropna['price'] = price\n",
    "    #get the listing_id with highest price\n",
    "    listing = df_listing_dropna[df_listing_dropna['price'] == price.max()][['name','smart_location','price']]\n",
    "    name = listing['name'][listing.index[0]]\n",
    "    location = listing['smart_location'][listing.index[0]]\n",
    "    the_price = listing['price'][listing.index[0]]                 \n",
    "                     \n",
    "    return name,location, the_price\n",
    "    \n",
    "    "
   ]
  },
  {
   "cell_type": "code",
   "execution_count": 3,
   "metadata": {},
   "outputs": [
    {
     "name": "stdout",
     "output_type": "stream",
     "text": [
      "The listing with highest price/night in Boston is Fenway Park/Kenmore Square Flat located in Boston, MA with the price $4000.0.\n"
     ]
    }
   ],
   "source": [
    "Boston_name, Boston_location, Boston_price = highest_listing(Boston_listing)\n",
    "print(\"The listing with highest price/night in Boston is {} located in {} with the price ${}.\".format(Boston_name,Boston_location,Boston_price))"
   ]
  },
  {
   "cell_type": "code",
   "execution_count": 4,
   "metadata": {},
   "outputs": [
    {
     "name": "stdout",
     "output_type": "stream",
     "text": [
      "The listing with highest price/night in Seattle is Cute Basement Apartment located in Seattle, WA with the price $1000.0.\n"
     ]
    }
   ],
   "source": [
    "Seattle_name, Seattle_location, Seattle_price = highest_listing(Seattle_listing)\n",
    "print(\"The listing with highest price/night in Seattle is {} located in {} with the price ${}.\".format(Seattle_name,Seattle_location,Seattle_price))"
   ]
  },
  {
   "cell_type": "markdown",
   "metadata": {},
   "source": [
    "## Question 2: What the most important features for predicting the price of AirBnb at Boston?"
   ]
  },
  {
   "cell_type": "markdown",
   "metadata": {},
   "source": [
    "### (1) Data Wrangling "
   ]
  },
  {
   "cell_type": "code",
   "execution_count": 8,
   "metadata": {},
   "outputs": [
    {
     "name": "stderr",
     "output_type": "stream",
     "text": [
      "/Users/haijuanzhang/env/lib/python3.7/site-packages/ipykernel_launcher.py:28: SettingWithCopyWarning: \n",
      "A value is trying to be set on a copy of a slice from a DataFrame.\n",
      "Try using .loc[row_indexer,col_indexer] = value instead\n",
      "\n",
      "See the caveats in the documentation: http://pandas.pydata.org/pandas-docs/stable/user_guide/indexing.html#returning-a-view-versus-a-copy\n",
      "/Users/haijuanzhang/env/lib/python3.7/site-packages/ipykernel_launcher.py:38: SettingWithCopyWarning: \n",
      "A value is trying to be set on a copy of a slice from a DataFrame.\n",
      "Try using .loc[row_indexer,col_indexer] = value instead\n",
      "\n",
      "See the caveats in the documentation: http://pandas.pydata.org/pandas-docs/stable/user_guide/indexing.html#returning-a-view-versus-a-copy\n"
     ]
    }
   ],
   "source": [
    "def DropNa (df):\n",
    "    '''\n",
    "    input: Dataframe of listing of target cities\n",
    "    output:  Dataframes dropping the columns with missing value more than 75%. \n",
    "            The  dataframe has the following features:\n",
    "            1. contain the features only related to price\n",
    "            2. dummy categorical varialbes\n",
    "            3. fill na with mean of columns in the numerical varaibles dataframe\n",
    "            4. drop rows with extremyle higher or lower prices.\n",
    "            \n",
    "      \n",
    "    \n",
    "    '''\n",
    "    \n",
    "    # drop the columns seems uncorrelated to price\n",
    "    df_drop_features = df.drop(['id','listing_url','name','scrape_id','last_scraped','summary','space','description','calculated_host_listings_count','notes','neighborhood_overview','transit','access','interaction','house_rules','thumbnail_url','medium_url','picture_url','xl_picture_url',\n",
    "                  'host_id','host_url','host_name','host_location','host_since','host_about','host_thumbnail_url','host_picture_url','city','host_total_listings_count','state','country_code','market','smart_location','country','amenities','calendar_updated','calendar_last_scraped','first_review','last_review','accommodates','availability_60','availability_90'],axis=1)\n",
    "   \n",
    "    # drop the rows with price missing \n",
    "    df_drop_features_price = df_drop_features.dropna(subset = ['price'])\n",
    "    #drop columns with missing value more than 75\n",
    "    n = df_drop_features_price.isnull().sum()/df_drop_features_price.shape[0] < 0.75\n",
    "    df_drop_features_na = df_drop_features_price[n[n==True].index]\n",
    "    # change the format of price,weekly price,monthly price, security_deposit,cleaning_fee,extra people from string to float\n",
    "    dollars = ['price', 'security_deposit','cleaning_fee','extra_people']\n",
    "    try:\n",
    "        for dollar in dollars:\n",
    "            df_drop_features_na[dollar] = df_drop_features_na[dollar].str.replace(\"$\",'').str.replace(\",\",\"\").astype(float)\n",
    "    except:\n",
    "        print(\"wrong format change\")\n",
    "    # drop the rows with extra bigger or extra smaller price\n",
    "    drop_price_index = df_drop_features_na[(df_drop_features_na.price > 800) | (df_drop_features_na.price < 100)].index\n",
    "    df_drop_features_na.drop(drop_price_index,axis = 0, inplace=True)\n",
    "     #change the format of rate to numeric   \n",
    "    rates = ['host_response_rate','host_acceptance_rate']\n",
    "    try:\n",
    "        for rate in rates:\n",
    "            df_drop_features_na[rate] = df_drop_features_na[rate].str.replace(\"%\",\"\").astype(float)\n",
    "            \n",
    "    except:\n",
    "        print(\"wrong percent format change\")\n",
    "        \n",
    "    num_vars = df_drop_features_na.select_dtypes(include=['float','int']).columns\n",
    "    cat_vars = df_drop_features_na.select_dtypes(include = ['object']).columns\n",
    "\n",
    "    # dummy categorical variables\n",
    "    try:\n",
    "        \n",
    "        for cat in cat_vars:\n",
    "            df_drop_features_na = pd.concat([df_drop_features_na.drop(cat,axis = 1),pd.get_dummies(df_drop_features_na[cat],prefix = cat, prefix_sep = '_', drop_first = True, dummy_na = False)], axis= 1)\n",
    "\n",
    "    except:\n",
    "        print(\"cannot dummy\")\n",
    "  \n",
    "    # fill in the numerical data frame with mean of each column\n",
    "    fillmean = lambda col: col.fillna(col.mean())\n",
    "    try:\n",
    "        df_drop_features_na = df_drop_features_na.apply(fillmean,axis = 0)\n",
    "    except:\n",
    "        print(\"cannot fill mean\")\n",
    "    \n",
    "       \n",
    "    return df_drop_features_na\n",
    "\n",
    "Boston = DropNa(Boston_listing)"
   ]
  },
  {
   "cell_type": "code",
   "execution_count": 11,
   "metadata": {},
   "outputs": [],
   "source": [
    "# drop columns highly correlated columns\n",
    "\n",
    "corr = Boston.select_dtypes(include = ['float','int']).corr().abs()\n",
    "corr[corr > 0.6]\n",
    "high_corr = ['beds','review_scores_accuracy','review_scores_cleanliness','review_scores_value','review_scores_communication']\n",
    "Boston_norr = Boston.drop(high_corr,axis = 1)\n"
   ]
  },
  {
   "cell_type": "markdown",
   "metadata": {},
   "source": [
    "### (2) Model fitting"
   ]
  },
  {
   "cell_type": "markdown",
   "metadata": {},
   "source": [
    "#### Randomforest fitting"
   ]
  },
  {
   "cell_type": "code",
   "execution_count": 21,
   "metadata": {},
   "outputs": [],
   "source": [
    "\n",
    "from scipy.stats import randint\n",
    "# specify parameters and distributions to sample from\n",
    "param_dist = {\"max_depth\": range(2,15,1),\n",
    "              \"n_estimators\" : range(80,200,4),\n",
    "              \"min_samples_split\": randint(2, 11),\n",
    "              \"bootstrap\": [True, False],\n",
    "              \"min_samples_leaf\" : randint(1,10)\n",
    "                            }\n",
    "n_iter_search = 20"
   ]
  },
  {
   "cell_type": "code",
   "execution_count": 18,
   "metadata": {},
   "outputs": [],
   "source": [
    "def Randomforest (df):\n",
    "    #Split into explanatory and response variables\n",
    "    X = df.drop('price', axis =1 )\n",
    "    y = df['price']\n",
    "    # split into training and testing set\n",
    "    X_train, X_test, y_train, y_test = train_test_split(X, y, test_size=0.3, random_state=42)\n",
    "\n",
    "    ran_reg = RandomizedSearchCV(RandomForestRegressor(), param_distributions=param_dist,\n",
    "                                   n_iter=n_iter_search, cv=5,n_jobs=-1)\n",
    "    ran_reg.fit(X_train,y_train)\n",
    "   # best_fit = ran_reg.best_estimator_\n",
    "    y_train_predict = ran_reg.predict(X_train)\n",
    "    y_test_predict = ran_reg.predict(X_test)\n",
    "    rtrain_score = r2_score(y_train,y_train_predict)\n",
    "    rtest_score = r2_score(y_test,y_test_predict)\n",
    "    return rtest_score, rtrain_score, ran_reg, X_train, X_test, y_train, y_test,X,y\n",
    "    "
   ]
  },
  {
   "cell_type": "code",
   "execution_count": 19,
   "metadata": {},
   "outputs": [],
   "source": [
    "rtest_score, rtrain_score, ran_reg, X_train, X_test, y_train, y_test,X,y = Randomforest(Boston_norr)"
   ]
  },
  {
   "cell_type": "code",
   "execution_count": 20,
   "metadata": {},
   "outputs": [
    {
     "name": "stdout",
     "output_type": "stream",
     "text": [
      "The rsquared on the training data was 0.7349907694904455.  The rsquared on the test data was 0.49917764479415205.\n"
     ]
    }
   ],
   "source": [
    "print(\"The rsquared on the training data was {}.  The rsquared on the test data was {}.\".format(rtrain_score, rtest_score))"
   ]
  },
  {
   "cell_type": "markdown",
   "metadata": {},
   "source": [
    "#### Gradiant Boosting fitting"
   ]
  },
  {
   "cell_type": "code",
   "execution_count": 31,
   "metadata": {},
   "outputs": [],
   "source": [
    "  # Grid Search to find Best Parameter\n",
    "param_grid = {'n_estimators': [300], \n",
    "                  'learning_rate': [0.05],\n",
    "                  'max_depth': [9],\n",
    "                  'min_samples_split': [5],\n",
    "                  'subsample': [0.6]\n",
    "                 }\n",
    "    \n",
    "    \n",
    "def GRAD_BOOSTING (df):\n",
    "        #Split into explanatory and response variables\n",
    "    X = df.drop('price', axis =1 )\n",
    "    y = df['price']\n",
    "    # split into training and testing set\n",
    "    X_train, X_test, y_train, y_test = train_test_split(X, y, test_size=0.3, random_state=42)\n",
    "    GRAD_reg = GridSearchCV(GradientBoostingRegressor(random_state = 42), param_grid, cv=5, scoring = 'neg_mean_squared_error', return_train_score=True)\n",
    "    GRAD_reg.fit(X_train, y_train)\n",
    "    y_train_predict = GRAD_reg.predict(X_train)\n",
    "    y_test_predict = GRAD_reg.predict(X_test)\n",
    "    GRADtrain_score = r2_score(y_train,y_train_predict)\n",
    "    GRADtest_score = r2_score(y_test,y_test_predict)\n",
    "    return GRADtest_score, GRADtrain_score, GRAD_reg, X_train, X_test, y_train, y_test,X,y\n",
    "\n",
    "    \n",
    "    "
   ]
  },
  {
   "cell_type": "code",
   "execution_count": 32,
   "metadata": {},
   "outputs": [],
   "source": [
    "GRADtest_score, GRADtrain_score, GRAD_reg, X_train, X_test, y_train, y_test,X,y = GRAD_BOOSTING(Boston_norr)"
   ]
  },
  {
   "cell_type": "code",
   "execution_count": 33,
   "metadata": {},
   "outputs": [
    {
     "name": "stdout",
     "output_type": "stream",
     "text": [
      "The rsquared on the training data was 0.9758374417839846.  The rsquared on the test data was 0.5511938465186016.\n"
     ]
    }
   ],
   "source": [
    "print(\"The rsquared on the training data was {}.  The rsquared on the test data was {}.\".format(GRADtrain_score, GRADtest_score))"
   ]
  },
  {
   "cell_type": "markdown",
   "metadata": {},
   "source": [
    "#### Adaboosting fitting"
   ]
  },
  {
   "cell_type": "code",
   "execution_count": 28,
   "metadata": {},
   "outputs": [],
   "source": [
    "\n",
    "param_dist = {\n",
    " 'n_estimators': [500],\n",
    " 'learning_rate' : [0.05],\n",
    "  'loss': ['linear']\n",
    " }\n",
    "\n",
    "def ADA_BOOSTING (df):\n",
    "        #Split into explanatory and response variables\n",
    "    X = df.drop('price', axis =1 )\n",
    "    y = df['price']\n",
    "    # split into training and testing set\n",
    "    X_train, X_test, y_train, y_test = train_test_split(X, y, test_size=0.3, random_state=42)\n",
    "    ADA_BOOST = GridSearchCV(AdaBoostRegressor(), param_dist, cv=5, scoring = 'neg_mean_squared_error', return_train_score=True);\n",
    "    ADA_BOOST.fit(X_train, y_train)\n",
    "    y_train_predict = ADA_BOOST.predict(X_train)\n",
    "    y_test_predict = ADA_BOOST.predict(X_test)\n",
    "    ADAtrain_score = r2_score(y_train,y_train_predict)\n",
    "    ADAtest_score = r2_score(y_test,y_test_predict)\n",
    "    return ADAtest_score, ADAtrain_score, ADA_BOOST, X_train, X_test, y_train, y_test,X,y"
   ]
  },
  {
   "cell_type": "code",
   "execution_count": 29,
   "metadata": {},
   "outputs": [],
   "source": [
    "ADAtest_score, ADAtrain_score, ADA_BOOST, X_train, X_test, y_train, y_test,X,y = ADA_BOOSTING(Boston_norr)"
   ]
  },
  {
   "cell_type": "code",
   "execution_count": 30,
   "metadata": {},
   "outputs": [
    {
     "name": "stdout",
     "output_type": "stream",
     "text": [
      "The rsquared on the training data was 0.33491407588374345.  The rsquared on the test data was 0.30663279584998315.\n"
     ]
    }
   ],
   "source": [
    "print(\"The rsquared on the training data was {}.  The rsquared on the test data was {}.\".format(ADAtrain_score, ADAtest_score))"
   ]
  },
  {
   "cell_type": "markdown",
   "metadata": {},
   "source": [
    "#### Since Gradient Boosting method has the higher R-square for test data, so I decide to use Gradient Boosting method to fit model "
   ]
  },
  {
   "cell_type": "code",
   "execution_count": 39,
   "metadata": {},
   "outputs": [
    {
     "data": {
      "text/plain": [
       "Text(0.5, 1.0, 'feature importance for the Top 20 features')"
      ]
     },
     "execution_count": 39,
     "metadata": {},
     "output_type": "execute_result"
    },
    {
     "data": {
      "image/png": "[encoded data removed]",
      "text/plain": [
       "<Figure size 864x288 with 1 Axes>"
      ]
     },
     "metadata": {
      "needs_background": "light"
     },
     "output_type": "display_data"
    }
   ],
   "source": [
    "# extract the 20 most important features when predicting price\n",
    "feature_importances = GRAD_reg.best_estimator_.feature_importances_\n",
    "features = sorted(zip(feature_importances, Boston_norr.drop(['price'],axis=1).columns), reverse=True)\n",
    "attribute = []\n",
    "coefficient = []\n",
    "for feature in features:\n",
    "    attribute.append(feature[1]) \n",
    "    coefficient.append(feature[0])\n",
    "plt.figure(figsize=(12,4))\n",
    "plt.bar(attribute[:20], height=coefficient[:20])\n",
    "plt.xticks(rotation=90)\n",
    "plt.xlabel('feature')\n",
    "plt.ylabel('feature importance')\n",
    "plt.title('feature importance for the Top 20 features')\n"
   ]
  },
  {
   "cell_type": "markdown",
   "metadata": {},
   "source": [
    "## (3) Find positive and negative reviews based on text"
   ]
  },
  {
   "cell_type": "code",
   "execution_count": 144,
   "metadata": {},
   "outputs": [
    {
     "data": {
      "text/plain": [
       "(68222, 6)"
      ]
     },
     "execution_count": 144,
     "metadata": {},
     "output_type": "execute_result"
    }
   ],
   "source": [
    "Boston_review.dropna(subset= ['comments'],axis=0,inplace=True)\n",
    "Boston_review.shape"
   ]
  },
  {
   "cell_type": "code",
   "execution_count": 145,
   "metadata": {},
   "outputs": [],
   "source": [
    "reviews = Boston_review['comments'].values"
   ]
  },
  {
   "cell_type": "code",
   "execution_count": 146,
   "metadata": {},
   "outputs": [],
   "source": [
    "#sentiment = []\n",
    "opinion = []\n",
    "for i in list(range(0,len(reviews))):\n",
    "  #  sentiment.append(TextBlob(reviews[i]).sentiment[0])\n",
    "    if (TextBlob(reviews[i]).sentiment[0] < 0):\n",
    "        opinion.append('negative')\n",
    "    else:\n",
    "        opinion.append('positive')"
   ]
  },
  {
   "cell_type": "code",
   "execution_count": 147,
   "metadata": {},
   "outputs": [],
   "source": [
    "Boston_review['opinion'] = opinion"
   ]
  },
  {
   "cell_type": "code",
   "execution_count": 148,
   "metadata": {},
   "outputs": [],
   "source": [
    "positive_reviews = Boston_review[Boston_review.opinion == 'postive']"
   ]
  },
  {
   "cell_type": "code",
   "execution_count": 149,
   "metadata": {},
   "outputs": [],
   "source": [
    "netative_reviews = Boston_review[Boston_review.opinion == 'netative']"
   ]
  },
  {
   "cell_type": "code",
   "execution_count": null,
   "metadata": {},
   "outputs": [],
   "source": []
  }
 ],
 "metadata": {
  "kernelspec": {
   "display_name": "Python 3",
   "language": "python",
   "name": "python3"
  },
  "language_info": {
   "codemirror_mode": {
    "name": "ipython",
    "version": 3
   },
   "file_extension": ".py",
   "mimetype": "text/x-python",
   "name": "python",
   "nbconvert_exporter": "python",
   "pygments_lexer": "ipython3",
   "version": "3.7.3"
  }
 },
 "nbformat": 4,
 "nbformat_minor": 2
}
